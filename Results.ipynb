{
 "cells": [
  {
   "cell_type": "code",
   "execution_count": 1,
   "id": "6f42fcdd",
   "metadata": {},
   "outputs": [],
   "source": [
    "from scipy.stats import t\n",
    "from scipy.stats import norm\n",
    "import matplotlib.pyplot as plt\n",
    "import numpy as np\n",
    "import pandas as pd\n",
    "from tabulate import tabulate\n",
    "\n",
    "from ConfidenceInterval import ConfInt"
   ]
  },
  {
   "cell_type": "markdown",
   "id": "07dc4b01",
   "metadata": {},
   "source": [
    "The function output is the mean difference (first value) and the confidence internal for the difference between the means (two values in square brackets, i.e. [...,...]). Input for the function ConfInt(np1, np2, n1, n2, p) is:\n",
    "- np1: the number of 'yes' in the group who took the EH course more than 12 months ago\n",
    "- np2: the number of 'yes' in the group who took the EH course less than 12 months ago\n",
    "- n1: the total number who took the EH course more than 12 months ago\n",
    "- n2: the total number who took the EH course less than 12 months ago\n",
    "- p: the desired confidence interval \n",
    "\n",
    "If 0 lies within the calculated confidence interval, then there is no significant difference between the groups. Otherwise, there is a significant difference for the particular confidence interval."
   ]
  },
  {
   "cell_type": "markdown",
   "id": "3eb2b01a",
   "metadata": {},
   "source": [
    "### Herzkreislaufstillstand kennen"
   ]
  },
  {
   "cell_type": "code",
   "execution_count": 2,
   "id": "0acdada6",
   "metadata": {},
   "outputs": [
    {
     "data": {
      "text/plain": [
       "(\"The difference between the means is -0.6974683544303798. There is a 95% chance that the confidence interval of [0.4885853525461478, 0.9063513563146117] contains the true difference in the proportion of people who answered 'yes' between those who took the First Aid Course less than and more than 12 months previously. It is highly likely that there is a true difference in the proportion of people who answered 'yes' between those who took the first aid course less than and more than 12 months previously.\",\n",
       " 1.9876082814405769,\n",
       " 'N/A',\n",
       " -0.6974683544303798,\n",
       " [0.4885853525461478, 0.9063513563146117],\n",
       " 'yes')"
      ]
     },
     "execution_count": 2,
     "metadata": {},
     "output_type": "execute_result"
    }
   ],
   "source": [
    "HKS = ['Herzkreislaufstillstand kennen', *ConfInt(16, 9, 79, 10, 0.95)[1:]]\n",
    "\n",
    "ConfInt(16, 9, 79, 10, 0.95)"
   ]
  },
  {
   "cell_type": "markdown",
   "id": "b9570953",
   "metadata": {},
   "source": [
    "### AED kennen u. verwenden"
   ]
  },
  {
   "cell_type": "code",
   "execution_count": 3,
   "id": "cbeb4258",
   "metadata": {},
   "outputs": [
    {
     "data": {
      "text/plain": [
       "\"The difference between the means is -0.3860759493670886. There is a 95% chance that the confidence interval of [0.06387619031791375, 0.7082757084162634] contains the true difference in the proportion of people who answered 'yes' between those who took the First Aid Course less than and more than 12 months previously. It is highly likely that there is a true difference in the proportion of people who answered 'yes' between those who took the first aid course less than and more than 12 months previously.\""
      ]
     },
     "execution_count": 3,
     "metadata": {},
     "output_type": "execute_result"
    }
   ],
   "source": [
    "AED = ['AED kennen u. verwenden', *ConfInt(9, 5, 79, 10, 0.95)[1:]]\n",
    "\n",
    "ConfInt(9, 5, 79, 10, 0.95)[0]"
   ]
  },
  {
   "cell_type": "markdown",
   "id": "ab508561",
   "metadata": {},
   "source": [
    "### Notfallsituation \\#1"
   ]
  },
  {
   "cell_type": "code",
   "execution_count": 4,
   "id": "27783542",
   "metadata": {},
   "outputs": [
    {
     "data": {
      "text/plain": [
       "\"The difference between the means is 0.12911392405063288. There is a 95% chance that the confidence interval of [-0.40160415150667994, 0.14337630340541418] contains the true difference in the proportion of people who answered 'yes' between those who took the First Aid Course less than and more than 12 months previously. It is highly likely that there is no true difference in the proportion of people who answered 'yes' between those who took the first aid course less than and more than 12 months previously.\""
      ]
     },
     "execution_count": 4,
     "metadata": {},
     "output_type": "execute_result"
    }
   ],
   "source": [
    "NFS1 = ['Notfallsituation #1', *ConfInt(26, 2, 79, 10, 0.95)[1:]]\n",
    "\n",
    "ConfInt(26, 2, 79, 10, 0.95)[0]"
   ]
  },
  {
   "cell_type": "markdown",
   "id": "4991dd39",
   "metadata": {},
   "source": [
    "### Notfallsituation \\#1, mit AED"
   ]
  },
  {
   "cell_type": "code",
   "execution_count": 5,
   "id": "ac46e55e",
   "metadata": {},
   "outputs": [
    {
     "data": {
      "text/plain": [
       "\"The difference between the means is -0.1. There is a 95% chance that the confidence interval of [-0.08856107796695603, 0.28856107796695607] contains the true difference in the proportion of people who answered 'yes' between those who took the First Aid Course less than and more than 12 months previously. It is highly likely that there is no true difference in the proportion of people who answered 'yes' between those who took the first aid course less than and more than 12 months previously.\""
      ]
     },
     "execution_count": 5,
     "metadata": {},
     "output_type": "execute_result"
    }
   ],
   "source": [
    "NFS1_AED = ['Notfallsituation #1, mit AED', *ConfInt(0, 1, 79, 10, 0.95)[1:]]\n",
    "\n",
    "ConfInt(0, 1, 79, 10, 0.95)[0]"
   ]
  },
  {
   "cell_type": "markdown",
   "id": "45a9e2a9",
   "metadata": {},
   "source": [
    "### Notfallsituation \\#2"
   ]
  },
  {
   "cell_type": "code",
   "execution_count": 6,
   "id": "52a51ea3",
   "metadata": {},
   "outputs": [
    {
     "data": {
      "text/plain": [
       "\"The difference between the means is -0.04936708860759494. There is a 95% chance that the confidence interval of [-0.14546385884685145, 0.24419803606204135] contains the true difference in the proportion of people who answered 'yes' between those who took the First Aid Course less than and more than 12 months previously. It is highly likely that there is no true difference in the proportion of people who answered 'yes' between those who took the first aid course less than and more than 12 months previously.\""
      ]
     },
     "execution_count": 6,
     "metadata": {},
     "output_type": "execute_result"
    }
   ],
   "source": [
    "NFS2 = ['Notfallsituation #2', *ConfInt(4, 1, 79, 10, 0.95)[1:]]\n",
    "\n",
    "ConfInt(4, 1, 79, 10, 0.95)[0]"
   ]
  },
  {
   "cell_type": "markdown",
   "id": "38d50dc4",
   "metadata": {},
   "source": [
    "### Notfallsituation \\#3"
   ]
  },
  {
   "cell_type": "code",
   "execution_count": 7,
   "id": "e8e0755b",
   "metadata": {},
   "outputs": [
    {
     "data": {
      "text/plain": [
       "\"The difference between the means is -0.2962025316455696. There is a 95% chance that the confidence interval of [-0.028437082947828096, 0.6208421462389673] contains the true difference in the proportion of people who answered 'yes' between those who took the First Aid Course less than and more than 12 months previously. It is highly likely that there is no true difference in the proportion of people who answered 'yes' between those who took the first aid course less than and more than 12 months previously.\""
      ]
     },
     "execution_count": 7,
     "metadata": {},
     "output_type": "execute_result"
    }
   ],
   "source": [
    "NFS3 = ['Notfallsituation #3', *ConfInt(24, 6, 79, 10, 0.95)[1:]]\n",
    "\n",
    "ConfInt(24, 6, 79, 10, 0.95)[0]"
   ]
  },
  {
   "cell_type": "markdown",
   "id": "780067f7",
   "metadata": {},
   "source": [
    "### Kenntnisstand \\#2"
   ]
  },
  {
   "cell_type": "code",
   "execution_count": 8,
   "id": "ead81ec0",
   "metadata": {},
   "outputs": [
    {
     "data": {
      "text/plain": [
       "\"The difference between the means is -0.08924050632911396. There is a 95% chance that the confidence interval of [-0.026025416082110217, 0.20450642874033814] contains the true difference in the proportion of people who answered 'yes' between those who took the First Aid Course less than and more than 12 months previously. It is highly likely that there is no true difference in the proportion of people who answered 'yes' between those who took the first aid course less than and more than 12 months previously.\""
      ]
     },
     "execution_count": 8,
     "metadata": {},
     "output_type": "execute_result"
    }
   ],
   "source": [
    "KS = ['Kenntnisstand #2', *ConfInt(228, 36, 632, 80, 0.95)[1:]]\n",
    "\n",
    "ConfInt(228, 36, 632, 80, 0.95)[0]"
   ]
  },
  {
   "cell_type": "markdown",
   "id": "4c5151f1",
   "metadata": {},
   "source": [
    "## Table"
   ]
  },
  {
   "cell_type": "code",
   "execution_count": 10,
   "id": "1a4b01cd",
   "metadata": {},
   "outputs": [
    {
     "data": {
      "text/html": [
       "<div>\n",
       "<style scoped>\n",
       "    .dataframe tbody tr th:only-of-type {\n",
       "        vertical-align: middle;\n",
       "    }\n",
       "\n",
       "    .dataframe tbody tr th {\n",
       "        vertical-align: top;\n",
       "    }\n",
       "\n",
       "    .dataframe thead th {\n",
       "        text-align: right;\n",
       "    }\n",
       "</style>\n",
       "<table border=\"1\" class=\"dataframe\">\n",
       "  <thead>\n",
       "    <tr style=\"text-align: right;\">\n",
       "      <th></th>\n",
       "      <th>Question</th>\n",
       "      <th>t-value</th>\n",
       "      <th>z-value</th>\n",
       "      <th>Mean difference</th>\n",
       "      <th>CI</th>\n",
       "      <th>significant difference</th>\n",
       "    </tr>\n",
       "  </thead>\n",
       "  <tbody>\n",
       "    <tr>\n",
       "      <th>0</th>\n",
       "      <td>Herzkreislaufstillstand kennen</td>\n",
       "      <td>1.987608</td>\n",
       "      <td>N/A</td>\n",
       "      <td>-0.697468</td>\n",
       "      <td>[0.4885853525461478, 0.9063513563146117]</td>\n",
       "      <td>yes</td>\n",
       "    </tr>\n",
       "    <tr>\n",
       "      <th>1</th>\n",
       "      <td>AED kennen u. verwenden</td>\n",
       "      <td>1.987608</td>\n",
       "      <td>N/A</td>\n",
       "      <td>-0.386076</td>\n",
       "      <td>[0.06387619031791375, 0.7082757084162634]</td>\n",
       "      <td>yes</td>\n",
       "    </tr>\n",
       "    <tr>\n",
       "      <th>2</th>\n",
       "      <td>Notfallsituation #1</td>\n",
       "      <td>1.987608</td>\n",
       "      <td>N/A</td>\n",
       "      <td>0.129114</td>\n",
       "      <td>[-0.40160415150667994, 0.14337630340541418]</td>\n",
       "      <td>no</td>\n",
       "    </tr>\n",
       "    <tr>\n",
       "      <th>3</th>\n",
       "      <td>Notfallsituation #1, mit AED</td>\n",
       "      <td>1.987608</td>\n",
       "      <td>N/A</td>\n",
       "      <td>-0.100000</td>\n",
       "      <td>[-0.08856107796695603, 0.28856107796695607]</td>\n",
       "      <td>no</td>\n",
       "    </tr>\n",
       "    <tr>\n",
       "      <th>4</th>\n",
       "      <td>Notfallsituation #2</td>\n",
       "      <td>1.987608</td>\n",
       "      <td>N/A</td>\n",
       "      <td>-0.049367</td>\n",
       "      <td>[-0.14546385884685145, 0.24419803606204135]</td>\n",
       "      <td>no</td>\n",
       "    </tr>\n",
       "    <tr>\n",
       "      <th>5</th>\n",
       "      <td>Notfallsituation #3</td>\n",
       "      <td>1.987608</td>\n",
       "      <td>N/A</td>\n",
       "      <td>-0.296203</td>\n",
       "      <td>[-0.028437082947828096, 0.6208421462389673]</td>\n",
       "      <td>no</td>\n",
       "    </tr>\n",
       "    <tr>\n",
       "      <th>6</th>\n",
       "      <td>Kenntnisstand #2</td>\n",
       "      <td>N/A</td>\n",
       "      <td>1.959964</td>\n",
       "      <td>-0.089241</td>\n",
       "      <td>[-0.026025416082110217, 0.20450642874033814]</td>\n",
       "      <td>no</td>\n",
       "    </tr>\n",
       "  </tbody>\n",
       "</table>\n",
       "</div>"
      ],
      "text/plain": [
       "                         Question   t-value   z-value  Mean difference  \\\n",
       "0  Herzkreislaufstillstand kennen  1.987608       N/A        -0.697468   \n",
       "1         AED kennen u. verwenden  1.987608       N/A        -0.386076   \n",
       "2             Notfallsituation #1  1.987608       N/A         0.129114   \n",
       "3    Notfallsituation #1, mit AED  1.987608       N/A        -0.100000   \n",
       "4             Notfallsituation #2  1.987608       N/A        -0.049367   \n",
       "5             Notfallsituation #3  1.987608       N/A        -0.296203   \n",
       "6                Kenntnisstand #2       N/A  1.959964        -0.089241   \n",
       "\n",
       "                                             CI significant difference  \n",
       "0      [0.4885853525461478, 0.9063513563146117]                    yes  \n",
       "1     [0.06387619031791375, 0.7082757084162634]                    yes  \n",
       "2   [-0.40160415150667994, 0.14337630340541418]                     no  \n",
       "3   [-0.08856107796695603, 0.28856107796695607]                     no  \n",
       "4   [-0.14546385884685145, 0.24419803606204135]                     no  \n",
       "5   [-0.028437082947828096, 0.6208421462389673]                     no  \n",
       "6  [-0.026025416082110217, 0.20450642874033814]                     no  "
      ]
     },
     "execution_count": 10,
     "metadata": {},
     "output_type": "execute_result"
    }
   ],
   "source": [
    "table = [['Question', 't-score', 'z-score', 'Mean difference', ' CI', 'Significant difference'], HKS, AED, NFS1, NFS1_AED, NFS2, NFS3, KS]\n",
    "\n",
    "qs = [HKS, AED, NFS1, NFS1_AED, NFS2, NFS3, KS]\n",
    "\n",
    "df = pd.DataFrame(columns=['Question', 't-value', 'z-value', 'Mean difference', ' CI', 'significant difference'])\n",
    "\n",
    "for q in qs:\n",
    "    df.loc[len(df.index)] = q\n",
    "\n",
    "df"
   ]
  },
  {
   "cell_type": "code",
   "execution_count": null,
   "id": "39f2cc83",
   "metadata": {},
   "outputs": [],
   "source": []
  },
  {
   "cell_type": "code",
   "execution_count": null,
   "id": "8894b570",
   "metadata": {},
   "outputs": [],
   "source": []
  },
  {
   "cell_type": "code",
   "execution_count": null,
   "id": "26356300",
   "metadata": {},
   "outputs": [],
   "source": []
  }
 ],
 "metadata": {
  "kernelspec": {
   "display_name": "Python 3 (ipykernel)",
   "language": "python",
   "name": "python3"
  },
  "language_info": {
   "codemirror_mode": {
    "name": "ipython",
    "version": 3
   },
   "file_extension": ".py",
   "mimetype": "text/x-python",
   "name": "python",
   "nbconvert_exporter": "python",
   "pygments_lexer": "ipython3",
   "version": "3.9.13"
  }
 },
 "nbformat": 4,
 "nbformat_minor": 5
}
