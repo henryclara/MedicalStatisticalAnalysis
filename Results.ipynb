{
 "cells": [
  {
   "cell_type": "code",
   "execution_count": 1,
   "id": "001b899a",
   "metadata": {},
   "outputs": [],
   "source": [
    "from scipy.stats import t\n",
    "from scipy.stats import norm\n",
    "import matplotlib.pyplot as plt \n",
    "import numpy as np\n",
    "\n",
    "from ConfidenceInterval import ConfInt"
   ]
  },
  {
   "cell_type": "markdown",
   "id": "016f46e3",
   "metadata": {},
   "source": [
    "The function output is the mean difference (first value) and the confidence internal for the difference between the means (two values in square brackets, i.e. [...,...]). Input for the function ConfInt(np1, np2, n1, n2, p) is:\n",
    "- np1: the number of 'JA' in the group who took the EH course more than 12 months ago\n",
    "- np2: the number of 'JA' in the group who took the EH course less than 12 months ago\n",
    "- n1: the total number who took the EH course more than 12 months ago\n",
    "- n2: the total number who took the EH course less than 12 months ago\n",
    "- p: the desired confidence interval \n",
    "\n",
    "If 0 lies within the calculated confidence interval, then there is no significant difference between the groups. Otherwise, there is a significant difference for the particular confidence interval."
   ]
  },
  {
   "cell_type": "markdown",
   "id": "2742db33",
   "metadata": {},
   "source": [
    "### Herzkreislaufstillstand kennen"
   ]
  },
  {
   "cell_type": "code",
   "execution_count": 2,
   "id": "c5d459e3",
   "metadata": {},
   "outputs": [
    {
     "data": {
      "text/plain": [
       "(-0.6974683544303798, [0.52274581318089, 0.8721908956798696])"
      ]
     },
     "execution_count": 2,
     "metadata": {},
     "output_type": "execute_result"
    }
   ],
   "source": [
    "ConfInt(16, 9, 79, 10, 0.9)"
   ]
  },
  {
   "cell_type": "markdown",
   "id": "f7593b95",
   "metadata": {},
   "source": [
    "### AED kennen u. verwenden"
   ]
  },
  {
   "cell_type": "code",
   "execution_count": 3,
   "id": "49be22e9",
   "metadata": {},
   "outputs": [
    {
     "data": {
      "text/plain": [
       "(-0.3860759493670886, [0.11656832939212536, 0.6555835693420519])"
      ]
     },
     "execution_count": 3,
     "metadata": {},
     "output_type": "execute_result"
    }
   ],
   "source": [
    "ConfInt(9, 5, 79, 10, 0.9)"
   ]
  },
  {
   "cell_type": "markdown",
   "id": "10531adf",
   "metadata": {},
   "source": [
    "### Notfallsituation \\#1"
   ]
  },
  {
   "cell_type": "code",
   "execution_count": 4,
   "id": "d26be487",
   "metadata": {},
   "outputs": [
    {
     "data": {
      "text/plain": [
       "(0.12911392405063288, [-0.35704144604765375, 0.09881359794638797])"
      ]
     },
     "execution_count": 4,
     "metadata": {},
     "output_type": "execute_result"
    }
   ],
   "source": [
    "ConfInt(26, 2, 79, 10, 0.9)"
   ]
  },
  {
   "cell_type": "markdown",
   "id": "1368f800",
   "metadata": {},
   "source": [
    "### Notfallsituation \\#1, zweite Ausrechnung (wie im Excel Spreadsheet nachgefragt)"
   ]
  },
  {
   "cell_type": "code",
   "execution_count": 5,
   "id": "64b63d8a",
   "metadata": {},
   "outputs": [
    {
     "data": {
      "text/plain": [
       "(-0.1, [-0.0577240389401773, 0.2577240389401773])"
      ]
     },
     "execution_count": 5,
     "metadata": {},
     "output_type": "execute_result"
    }
   ],
   "source": [
    "ConfInt(0, 1, 79, 10, 0.9)"
   ]
  },
  {
   "cell_type": "markdown",
   "id": "bcd944e6",
   "metadata": {},
   "source": [
    "### Notfallsituation \\#2"
   ]
  },
  {
   "cell_type": "code",
   "execution_count": 6,
   "id": "dd794868",
   "metadata": {},
   "outputs": [
    {
     "data": {
      "text/plain": [
       "(-0.04936708860759494, [-0.113601453333186, 0.2123356305483759])"
      ]
     },
     "execution_count": 6,
     "metadata": {},
     "output_type": "execute_result"
    }
   ],
   "source": [
    "ConfInt(4, 1, 79, 10, 0.9)"
   ]
  },
  {
   "cell_type": "markdown",
   "id": "570f3c32",
   "metadata": {},
   "source": [
    "### Notfallsituation \\#3"
   ]
  },
  {
   "cell_type": "code",
   "execution_count": 7,
   "id": "4b6602c5",
   "metadata": {},
   "outputs": [
    {
     "data": {
      "text/plain": [
       "(-0.2962025316455696, [0.02465406700099304, 0.5677509962901461])"
      ]
     },
     "execution_count": 7,
     "metadata": {},
     "output_type": "execute_result"
    }
   ],
   "source": [
    "ConfInt(24, 6, 79, 10, 0.9)"
   ]
  },
  {
   "cell_type": "markdown",
   "id": "81d8c39c",
   "metadata": {},
   "source": [
    "### Kenntnisstand \\#2"
   ]
  },
  {
   "cell_type": "code",
   "execution_count": 8,
   "id": "04ed4063",
   "metadata": {},
   "outputs": [
    {
     "data": {
      "text/plain": [
       "(-0.08924050632911396, [-0.00749370513472658, 0.1859747177929545])"
      ]
     },
     "execution_count": 8,
     "metadata": {},
     "output_type": "execute_result"
    }
   ],
   "source": [
    "ConfInt(228, 36, 632, 80, 0.9)"
   ]
  },
  {
   "cell_type": "code",
   "execution_count": null,
   "id": "d823bafa",
   "metadata": {},
   "outputs": [],
   "source": []
  },
  {
   "cell_type": "code",
   "execution_count": null,
   "id": "40b3b011",
   "metadata": {},
   "outputs": [],
   "source": []
  },
  {
   "cell_type": "code",
   "execution_count": null,
   "id": "7a01d512",
   "metadata": {},
   "outputs": [],
   "source": []
  }
 ],
 "metadata": {
  "kernelspec": {
   "display_name": "Python 3 (ipykernel)",
   "language": "python",
   "name": "python3"
  },
  "language_info": {
   "codemirror_mode": {
    "name": "ipython",
    "version": 3
   },
   "file_extension": ".py",
   "mimetype": "text/x-python",
   "name": "python",
   "nbconvert_exporter": "python",
   "pygments_lexer": "ipython3",
   "version": "3.9.13"
  }
 },
 "nbformat": 4,
 "nbformat_minor": 5
}
