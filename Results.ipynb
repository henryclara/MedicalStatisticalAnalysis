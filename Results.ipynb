{
 "cells": [
  {
   "cell_type": "code",
   "execution_count": 16,
   "id": "6f42fcdd",
   "metadata": {},
   "outputs": [],
   "source": [
    "from scipy.stats import t\n",
    "from scipy.stats import norm\n",
    "import matplotlib.pyplot as plt \n",
    "import numpy as np\n",
    "\n",
    "from ConfidenceInterval import ConfInt"
   ]
  },
  {
   "cell_type": "markdown",
   "id": "07dc4b01",
   "metadata": {},
   "source": [
    "The function output is the mean difference (first value) and the confidence internal for the difference between the means (two values in square brackets, i.e. [...,...]). Input for the function ConfInt(np1, np2, n1, n2, p) is:\n",
    "- np1: the number of 'yes' in the group who took the EH course more than 12 months ago\n",
    "- np2: the number of 'yes' in the group who took the EH course less than 12 months ago\n",
    "- n1: the total number who took the EH course more than 12 months ago\n",
    "- n2: the total number who took the EH course less than 12 months ago\n",
    "- p: the desired confidence interval \n",
    "\n",
    "If 0 lies within the calculated confidence interval, then there is no significant difference between the groups. Otherwise, there is a significant difference for the particular confidence interval."
   ]
  },
  {
   "cell_type": "markdown",
   "id": "3eb2b01a",
   "metadata": {},
   "source": [
    "### Herzkreislaufstillstand kennen"
   ]
  },
  {
   "cell_type": "code",
   "execution_count": 17,
   "id": "8b4e28b8",
   "metadata": {},
   "outputs": [
    {
     "data": {
      "text/plain": [
       "\"The difference between the means is -0.6974683544303798. There is a 90% chance that the confidence interval of [0.52274581318089, 0.8721908956798696] contains the true difference in the proportion of people who answered 'yes' between those who took the First Aid Course less than and more than 12 months previously. It is highly likely that there is a true difference in the proportion of people who answered 'yes' between those who took the first aid course less than and more than 12 months previously.\""
      ]
     },
     "execution_count": 17,
     "metadata": {},
     "output_type": "execute_result"
    }
   ],
   "source": [
    "ConfInt(16, 9, 79, 10, 0.9)"
   ]
  },
  {
   "cell_type": "code",
   "execution_count": 18,
   "id": "610c9da1",
   "metadata": {},
   "outputs": [
    {
     "data": {
      "text/plain": [
       "\"The difference between the means is -0.6974683544303798. There is a 95% chance that the confidence interval of [0.4885853525461478, 0.9063513563146117] contains the true difference in the proportion of people who answered 'yes' between those who took the First Aid Course less than and more than 12 months previously. It is highly likely that there is a true difference in the proportion of people who answered 'yes' between those who took the first aid course less than and more than 12 months previously.\""
      ]
     },
     "execution_count": 18,
     "metadata": {},
     "output_type": "execute_result"
    }
   ],
   "source": [
    "ConfInt(16, 9, 79, 10, 0.95)"
   ]
  },
  {
   "cell_type": "markdown",
   "id": "b9570953",
   "metadata": {},
   "source": [
    "### AED kennen u. verwenden"
   ]
  },
  {
   "cell_type": "code",
   "execution_count": 19,
   "id": "baa810de",
   "metadata": {},
   "outputs": [
    {
     "data": {
      "text/plain": [
       "\"The difference between the means is -0.3860759493670886. There is a 90% chance that the confidence interval of [0.11656832939212536, 0.6555835693420519] contains the true difference in the proportion of people who answered 'yes' between those who took the First Aid Course less than and more than 12 months previously. It is highly likely that there is a true difference in the proportion of people who answered 'yes' between those who took the first aid course less than and more than 12 months previously.\""
      ]
     },
     "execution_count": 19,
     "metadata": {},
     "output_type": "execute_result"
    }
   ],
   "source": [
    "ConfInt(9, 5, 79, 10, 0.9)"
   ]
  },
  {
   "cell_type": "code",
   "execution_count": 20,
   "id": "050e54d6",
   "metadata": {},
   "outputs": [
    {
     "data": {
      "text/plain": [
       "\"The difference between the means is -0.3860759493670886. There is a 95% chance that the confidence interval of [0.06387619031791375, 0.7082757084162634] contains the true difference in the proportion of people who answered 'yes' between those who took the First Aid Course less than and more than 12 months previously. It is highly likely that there is a true difference in the proportion of people who answered 'yes' between those who took the first aid course less than and more than 12 months previously.\""
      ]
     },
     "execution_count": 20,
     "metadata": {},
     "output_type": "execute_result"
    }
   ],
   "source": [
    "ConfInt(9, 5, 79, 10, 0.95)"
   ]
  },
  {
   "cell_type": "markdown",
   "id": "ab508561",
   "metadata": {},
   "source": [
    "### Notfallsituation \\#1"
   ]
  },
  {
   "cell_type": "code",
   "execution_count": 21,
   "id": "05aafb4d",
   "metadata": {},
   "outputs": [
    {
     "data": {
      "text/plain": [
       "\"The difference between the means is 0.12911392405063288. There is a 90% chance that the confidence interval of [-0.35704144604765375, 0.09881359794638797] contains the true difference in the proportion of people who answered 'yes' between those who took the First Aid Course less than and more than 12 months previously. It is highly likely that there is no true difference in the proportion of people who answered 'yes' between those who took the first aid course less than and more than 12 months previously.\""
      ]
     },
     "execution_count": 21,
     "metadata": {},
     "output_type": "execute_result"
    }
   ],
   "source": [
    "ConfInt(26, 2, 79, 10, 0.9)"
   ]
  },
  {
   "cell_type": "code",
   "execution_count": 22,
   "id": "a6efc52a",
   "metadata": {},
   "outputs": [
    {
     "data": {
      "text/plain": [
       "\"The difference between the means is 0.12911392405063288. There is a 95% chance that the confidence interval of [-0.40160415150667994, 0.14337630340541418] contains the true difference in the proportion of people who answered 'yes' between those who took the First Aid Course less than and more than 12 months previously. It is highly likely that there is no true difference in the proportion of people who answered 'yes' between those who took the first aid course less than and more than 12 months previously.\""
      ]
     },
     "execution_count": 22,
     "metadata": {},
     "output_type": "execute_result"
    }
   ],
   "source": [
    "ConfInt(26, 2, 79, 10, 0.95)"
   ]
  },
  {
   "cell_type": "markdown",
   "id": "4991dd39",
   "metadata": {},
   "source": [
    "### Notfallsituation \\#1, mit AED"
   ]
  },
  {
   "cell_type": "code",
   "execution_count": 23,
   "id": "92a086b8",
   "metadata": {},
   "outputs": [
    {
     "data": {
      "text/plain": [
       "\"The difference between the means is -0.1. There is a 90% chance that the confidence interval of [-0.0577240389401773, 0.2577240389401773] contains the true difference in the proportion of people who answered 'yes' between those who took the First Aid Course less than and more than 12 months previously. It is highly likely that there is no true difference in the proportion of people who answered 'yes' between those who took the first aid course less than and more than 12 months previously.\""
      ]
     },
     "execution_count": 23,
     "metadata": {},
     "output_type": "execute_result"
    }
   ],
   "source": [
    "ConfInt(0, 1, 79, 10, 0.9)"
   ]
  },
  {
   "cell_type": "code",
   "execution_count": 24,
   "id": "2f42244f",
   "metadata": {},
   "outputs": [
    {
     "data": {
      "text/plain": [
       "\"The difference between the means is -0.1. There is a 95% chance that the confidence interval of [-0.08856107796695603, 0.28856107796695607] contains the true difference in the proportion of people who answered 'yes' between those who took the First Aid Course less than and more than 12 months previously. It is highly likely that there is no true difference in the proportion of people who answered 'yes' between those who took the first aid course less than and more than 12 months previously.\""
      ]
     },
     "execution_count": 24,
     "metadata": {},
     "output_type": "execute_result"
    }
   ],
   "source": [
    "ConfInt(0, 1, 79, 10, 0.95)"
   ]
  },
  {
   "cell_type": "markdown",
   "id": "45a9e2a9",
   "metadata": {},
   "source": [
    "### Notfallsituation \\#2"
   ]
  },
  {
   "cell_type": "code",
   "execution_count": 25,
   "id": "5a7c9fc5",
   "metadata": {},
   "outputs": [
    {
     "data": {
      "text/plain": [
       "\"The difference between the means is -0.04936708860759494. There is a 90% chance that the confidence interval of [-0.113601453333186, 0.2123356305483759] contains the true difference in the proportion of people who answered 'yes' between those who took the First Aid Course less than and more than 12 months previously. It is highly likely that there is no true difference in the proportion of people who answered 'yes' between those who took the first aid course less than and more than 12 months previously.\""
      ]
     },
     "execution_count": 25,
     "metadata": {},
     "output_type": "execute_result"
    }
   ],
   "source": [
    "ConfInt(4, 1, 79, 10, 0.9)"
   ]
  },
  {
   "cell_type": "code",
   "execution_count": 26,
   "id": "07ff87a0",
   "metadata": {},
   "outputs": [
    {
     "data": {
      "text/plain": [
       "\"The difference between the means is -0.04936708860759494. There is a 95% chance that the confidence interval of [-0.14546385884685145, 0.24419803606204135] contains the true difference in the proportion of people who answered 'yes' between those who took the First Aid Course less than and more than 12 months previously. It is highly likely that there is no true difference in the proportion of people who answered 'yes' between those who took the first aid course less than and more than 12 months previously.\""
      ]
     },
     "execution_count": 26,
     "metadata": {},
     "output_type": "execute_result"
    }
   ],
   "source": [
    "ConfInt(4, 1, 79, 10, 0.95)"
   ]
  },
  {
   "cell_type": "markdown",
   "id": "38d50dc4",
   "metadata": {},
   "source": [
    "### Notfallsituation \\#3"
   ]
  },
  {
   "cell_type": "code",
   "execution_count": 27,
   "id": "86d35d13",
   "metadata": {},
   "outputs": [
    {
     "data": {
      "text/plain": [
       "\"The difference between the means is -0.2962025316455696. There is a 90% chance that the confidence interval of [0.02465406700099304, 0.5677509962901461] contains the true difference in the proportion of people who answered 'yes' between those who took the First Aid Course less than and more than 12 months previously. It is highly likely that there is a true difference in the proportion of people who answered 'yes' between those who took the first aid course less than and more than 12 months previously.\""
      ]
     },
     "execution_count": 27,
     "metadata": {},
     "output_type": "execute_result"
    }
   ],
   "source": [
    "ConfInt(24, 6, 79, 10, 0.9)"
   ]
  },
  {
   "cell_type": "code",
   "execution_count": 28,
   "id": "20421f0f",
   "metadata": {},
   "outputs": [
    {
     "data": {
      "text/plain": [
       "\"The difference between the means is -0.2962025316455696. There is a 95% chance that the confidence interval of [-0.028437082947828096, 0.6208421462389673] contains the true difference in the proportion of people who answered 'yes' between those who took the First Aid Course less than and more than 12 months previously. It is highly likely that there is no true difference in the proportion of people who answered 'yes' between those who took the first aid course less than and more than 12 months previously.\""
      ]
     },
     "execution_count": 28,
     "metadata": {},
     "output_type": "execute_result"
    }
   ],
   "source": [
    "ConfInt(24, 6, 79, 10, 0.95)"
   ]
  },
  {
   "cell_type": "markdown",
   "id": "780067f7",
   "metadata": {},
   "source": [
    "### Kenntnisstand \\#2"
   ]
  },
  {
   "cell_type": "code",
   "execution_count": 29,
   "id": "b54ef29d",
   "metadata": {},
   "outputs": [
    {
     "data": {
      "text/plain": [
       "\"The difference between the means is -0.08924050632911396. There is a 90% chance that the confidence interval of [-0.00749370513472658, 0.1859747177929545] contains the true difference in the proportion of people who answered 'yes' between those who took the First Aid Course less than and more than 12 months previously. It is highly likely that there is no true difference in the proportion of people who answered 'yes' between those who took the first aid course less than and more than 12 months previously.\""
      ]
     },
     "execution_count": 29,
     "metadata": {},
     "output_type": "execute_result"
    }
   ],
   "source": [
    "ConfInt(228, 36, 632, 80, 0.9)"
   ]
  },
  {
   "cell_type": "code",
   "execution_count": 30,
   "id": "ead81ec0",
   "metadata": {},
   "outputs": [
    {
     "data": {
      "text/plain": [
       "\"The difference between the means is -0.08924050632911396. There is a 95% chance that the confidence interval of [-0.026025416082110217, 0.20450642874033814] contains the true difference in the proportion of people who answered 'yes' between those who took the First Aid Course less than and more than 12 months previously. It is highly likely that there is no true difference in the proportion of people who answered 'yes' between those who took the first aid course less than and more than 12 months previously.\""
      ]
     },
     "execution_count": 30,
     "metadata": {},
     "output_type": "execute_result"
    }
   ],
   "source": [
    "ConfInt(228, 36, 632, 80, 0.95)"
   ]
  },
  {
   "cell_type": "code",
   "execution_count": null,
   "id": "1a4b01cd",
   "metadata": {},
   "outputs": [],
   "source": []
  },
  {
   "cell_type": "code",
   "execution_count": null,
   "id": "624e35fd",
   "metadata": {},
   "outputs": [],
   "source": []
  },
  {
   "cell_type": "code",
   "execution_count": null,
   "id": "9eb83a6d",
   "metadata": {},
   "outputs": [],
   "source": []
  },
  {
   "cell_type": "code",
   "execution_count": null,
   "id": "39f2cc83",
   "metadata": {},
   "outputs": [],
   "source": []
  },
  {
   "cell_type": "code",
   "execution_count": null,
   "id": "8894b570",
   "metadata": {},
   "outputs": [],
   "source": []
  }
 ],
 "metadata": {
  "kernelspec": {
   "display_name": "Python 3 (ipykernel)",
   "language": "python",
   "name": "python3"
  },
  "language_info": {
   "codemirror_mode": {
    "name": "ipython",
    "version": 3
   },
   "file_extension": ".py",
   "mimetype": "text/x-python",
   "name": "python",
   "nbconvert_exporter": "python",
   "pygments_lexer": "ipython3",
   "version": "3.9.13"
  }
 },
 "nbformat": 4,
 "nbformat_minor": 5
}
