{
 "cells": [
  {
   "cell_type": "code",
   "execution_count": 1,
   "id": "6f42fcdd",
   "metadata": {},
   "outputs": [],
   "source": [
    "from scipy.stats import t\n",
    "from scipy.stats import norm\n",
    "import matplotlib.pyplot as plt\n",
    "import numpy as np\n",
    "import pandas as pd\n",
    "from tabulate import tabulate\n",
    "import six\n",
    "import dataframe_image as dfi\n",
    "\n",
    "from ConfidenceInterval import ConfInt"
   ]
  },
  {
   "cell_type": "markdown",
   "id": "07dc4b01",
   "metadata": {},
   "source": [
    "The function output is the mean difference (first value) and the confidence internal for the difference between the means (two values in square brackets, i.e. [...,...]). Input for the function ConfInt(np1, np2, n1, n2, p) is:\n",
    "- np1: the number of 'yes' in the group who took the EH course more than 12 months ago\n",
    "- np2: the number of 'yes' in the group who took the EH course less than 12 months ago\n",
    "- n1: the total number who took the EH course more than 12 months ago\n",
    "- n2: the total number who took the EH course less than 12 months ago\n",
    "- p: the desired confidence interval \n",
    "\n",
    "If 0 lies within the calculated confidence interval, then there is no significant difference between the groups. Otherwise, there is a significant difference for the particular confidence interval."
   ]
  },
  {
   "cell_type": "markdown",
   "id": "3eb2b01a",
   "metadata": {},
   "source": [
    "### Herzkreislaufstillstand erkennen"
   ]
  },
  {
   "cell_type": "code",
   "execution_count": 2,
   "id": "b4d307c5",
   "metadata": {},
   "outputs": [
    {
     "data": {
      "text/plain": [
       "\"The difference between the means is -0.6974683544303798. There is a 95% chance that the confidence interval of [0.4885853525461478, 0.9063513563146117] contains the true difference in the proportion of people who answered 'yes' between those who took the First Aid Course less than and more than 12 months previously. It is highly likely that there is a true difference in the proportion of people who answered 'yes' between those who took the first aid course less than and more than 12 months previously.\""
      ]
     },
     "execution_count": 2,
     "metadata": {},
     "output_type": "execute_result"
    }
   ],
   "source": [
    "HKS = ['Herzkreislaufstillstand erkennen', *ConfInt(16, 9, 79, 10, 0.95)[1:]]\n",
    "\n",
    "ConfInt(16, 9, 79, 10, 0.95)[0]"
   ]
  },
  {
   "cell_type": "markdown",
   "id": "b9570953",
   "metadata": {},
   "source": [
    "### AED erkennen u. verwenden"
   ]
  },
  {
   "cell_type": "code",
   "execution_count": 3,
   "id": "6bb44eca",
   "metadata": {},
   "outputs": [
    {
     "data": {
      "text/plain": [
       "\"The difference between the means is -0.3860759493670886. There is a 95% chance that the confidence interval of [0.06387619031791375, 0.7082757084162634] contains the true difference in the proportion of people who answered 'yes' between those who took the First Aid Course less than and more than 12 months previously. It is highly likely that there is a true difference in the proportion of people who answered 'yes' between those who took the first aid course less than and more than 12 months previously.\""
      ]
     },
     "execution_count": 3,
     "metadata": {},
     "output_type": "execute_result"
    }
   ],
   "source": [
    "AED = ['AED erkennen u. verwenden', *ConfInt(9, 5, 79, 10, 0.95)[1:]]\n",
    "\n",
    "ConfInt(9, 5, 79, 10, 0.95)[0]"
   ]
  },
  {
   "cell_type": "markdown",
   "id": "ab508561",
   "metadata": {},
   "source": [
    "### Notfallsituation \\#1"
   ]
  },
  {
   "cell_type": "code",
   "execution_count": 4,
   "id": "87b61727",
   "metadata": {},
   "outputs": [
    {
     "data": {
      "text/plain": [
       "\"The difference between the means is 0.12911392405063288. There is a 95% chance that the confidence interval of [-0.40160415150667994, 0.14337630340541418] contains the true difference in the proportion of people who answered 'yes' between those who took the First Aid Course less than and more than 12 months previously. It is highly likely that there is no true difference in the proportion of people who answered 'yes' between those who took the first aid course less than and more than 12 months previously.\""
      ]
     },
     "execution_count": 4,
     "metadata": {},
     "output_type": "execute_result"
    }
   ],
   "source": [
    "NFS1 = ['Notfallsituation #1', *ConfInt(26, 2, 79, 10, 0.95)[1:]]\n",
    "\n",
    "ConfInt(26, 2, 79, 10, 0.95)[0]"
   ]
  },
  {
   "cell_type": "markdown",
   "id": "4991dd39",
   "metadata": {},
   "source": [
    "### Notfallsituation \\#1, mit AED"
   ]
  },
  {
   "cell_type": "code",
   "execution_count": 5,
   "id": "dd656b26",
   "metadata": {},
   "outputs": [
    {
     "data": {
      "text/plain": [
       "\"The difference between the means is -0.1. There is a 95% chance that the confidence interval of [-0.08856107796695603, 0.28856107796695607] contains the true difference in the proportion of people who answered 'yes' between those who took the First Aid Course less than and more than 12 months previously. It is highly likely that there is no true difference in the proportion of people who answered 'yes' between those who took the first aid course less than and more than 12 months previously.\""
      ]
     },
     "execution_count": 5,
     "metadata": {},
     "output_type": "execute_result"
    }
   ],
   "source": [
    "NFS1_AED = ['Notfallsituation #1, mit AED', *ConfInt(0, 1, 79, 10, 0.95)[1:]]\n",
    "\n",
    "ConfInt(0, 1, 79, 10, 0.95)[0]"
   ]
  },
  {
   "cell_type": "markdown",
   "id": "45a9e2a9",
   "metadata": {},
   "source": [
    "### Notfallsituation \\#2"
   ]
  },
  {
   "cell_type": "code",
   "execution_count": 6,
   "id": "805c52d4",
   "metadata": {},
   "outputs": [
    {
     "data": {
      "text/plain": [
       "\"The difference between the means is -0.04936708860759494. There is a 95% chance that the confidence interval of [-0.14546385884685145, 0.24419803606204135] contains the true difference in the proportion of people who answered 'yes' between those who took the First Aid Course less than and more than 12 months previously. It is highly likely that there is no true difference in the proportion of people who answered 'yes' between those who took the first aid course less than and more than 12 months previously.\""
      ]
     },
     "execution_count": 6,
     "metadata": {},
     "output_type": "execute_result"
    }
   ],
   "source": [
    "NFS2 = ['Notfallsituation #2', *ConfInt(4, 1, 79, 10, 0.95)[1:]]\n",
    "\n",
    "ConfInt(4, 1, 79, 10, 0.95)[0]"
   ]
  },
  {
   "cell_type": "markdown",
   "id": "38d50dc4",
   "metadata": {},
   "source": [
    "### Notfallsituation \\#3"
   ]
  },
  {
   "cell_type": "code",
   "execution_count": 7,
   "id": "ec724365",
   "metadata": {},
   "outputs": [
    {
     "data": {
      "text/plain": [
       "\"The difference between the means is -0.2962025316455696. There is a 95% chance that the confidence interval of [-0.028437082947828096, 0.6208421462389673] contains the true difference in the proportion of people who answered 'yes' between those who took the First Aid Course less than and more than 12 months previously. It is highly likely that there is no true difference in the proportion of people who answered 'yes' between those who took the first aid course less than and more than 12 months previously.\""
      ]
     },
     "execution_count": 7,
     "metadata": {},
     "output_type": "execute_result"
    }
   ],
   "source": [
    "NFS3 = ['Notfallsituation #3', *ConfInt(24, 6, 79, 10, 0.95)[1:]]\n",
    "\n",
    "ConfInt(24, 6, 79, 10, 0.95)[0]"
   ]
  },
  {
   "cell_type": "markdown",
   "id": "780067f7",
   "metadata": {},
   "source": [
    "### Kenntnisstand \\#2"
   ]
  },
  {
   "cell_type": "raw",
   "id": "afb70485",
   "metadata": {},
   "source": [
    "KS = ['Kenntnisstand #2', *ConfInt(228, 36, 632, 80, 0.95)[1:]]\n",
    "\n",
    "ConfInt(228, 36, 632, 80, 0.95)[0]"
   ]
  },
  {
   "cell_type": "markdown",
   "id": "248bbb40",
   "metadata": {},
   "source": [
    "## Table"
   ]
  },
  {
   "cell_type": "code",
   "execution_count": 8,
   "id": "1a4b01cd",
   "metadata": {},
   "outputs": [],
   "source": [
    "qs = [HKS, AED, NFS1, NFS1_AED, NFS2, NFS3]\n",
    "\n",
    "df = pd.DataFrame(columns=['Frage', 't-value', 'z-value', 'Mittelungsdifferenz', 'Konfidenzintervall', 'Signifikanter Unterschied'])\n",
    "\n",
    "for q in qs:\n",
    "    df.loc[len(df.index)] = q"
   ]
  },
  {
   "cell_type": "code",
   "execution_count": 9,
   "id": "a4fecbfd",
   "metadata": {},
   "outputs": [
    {
     "name": "stderr",
     "output_type": "stream",
     "text": [
      "[0821/105001.676598:INFO:headless_shell.cc(660)] Written to file /var/folders/7m/lgqxn0610bs8sxwnf4k6z_hw0000gn/T/tmpzlyx86a_/temp.png.\n"
     ]
    }
   ],
   "source": [
    "dfi.export(df, 'table.png')"
   ]
  },
  {
   "cell_type": "code",
   "execution_count": 10,
   "id": "f171d942",
   "metadata": {},
   "outputs": [
    {
     "data": {
      "text/html": [
       "<div>\n",
       "<style scoped>\n",
       "    .dataframe tbody tr th:only-of-type {\n",
       "        vertical-align: middle;\n",
       "    }\n",
       "\n",
       "    .dataframe tbody tr th {\n",
       "        vertical-align: top;\n",
       "    }\n",
       "\n",
       "    .dataframe thead th {\n",
       "        text-align: right;\n",
       "    }\n",
       "</style>\n",
       "<table border=\"1\" class=\"dataframe\">\n",
       "  <thead>\n",
       "    <tr style=\"text-align: right;\">\n",
       "      <th></th>\n",
       "      <th>Frage</th>\n",
       "      <th>t-value</th>\n",
       "      <th>z-value</th>\n",
       "      <th>Mittelungsdifferenz</th>\n",
       "      <th>Konfidenzintervall</th>\n",
       "      <th>Signifikanter Unterschied</th>\n",
       "    </tr>\n",
       "  </thead>\n",
       "  <tbody>\n",
       "    <tr>\n",
       "      <th>0</th>\n",
       "      <td>Herzkreislaufstillstand erkennen</td>\n",
       "      <td>1.99</td>\n",
       "      <td>N/A</td>\n",
       "      <td>-0.70</td>\n",
       "      <td>[0.49, 0.91]</td>\n",
       "      <td>ja</td>\n",
       "    </tr>\n",
       "    <tr>\n",
       "      <th>1</th>\n",
       "      <td>AED erkennen u. verwenden</td>\n",
       "      <td>1.99</td>\n",
       "      <td>N/A</td>\n",
       "      <td>-0.39</td>\n",
       "      <td>[0.06, 0.71]</td>\n",
       "      <td>ja</td>\n",
       "    </tr>\n",
       "    <tr>\n",
       "      <th>2</th>\n",
       "      <td>Notfallsituation #1</td>\n",
       "      <td>1.99</td>\n",
       "      <td>N/A</td>\n",
       "      <td>0.13</td>\n",
       "      <td>[-0.4, 0.14]</td>\n",
       "      <td>nein</td>\n",
       "    </tr>\n",
       "    <tr>\n",
       "      <th>3</th>\n",
       "      <td>Notfallsituation #1, mit AED</td>\n",
       "      <td>1.99</td>\n",
       "      <td>N/A</td>\n",
       "      <td>-0.10</td>\n",
       "      <td>[-0.09, 0.29]</td>\n",
       "      <td>nein</td>\n",
       "    </tr>\n",
       "    <tr>\n",
       "      <th>4</th>\n",
       "      <td>Notfallsituation #2</td>\n",
       "      <td>1.99</td>\n",
       "      <td>N/A</td>\n",
       "      <td>-0.05</td>\n",
       "      <td>[-0.15, 0.24]</td>\n",
       "      <td>nein</td>\n",
       "    </tr>\n",
       "    <tr>\n",
       "      <th>5</th>\n",
       "      <td>Notfallsituation #3</td>\n",
       "      <td>1.99</td>\n",
       "      <td>N/A</td>\n",
       "      <td>-0.30</td>\n",
       "      <td>[-0.03, 0.62]</td>\n",
       "      <td>nein</td>\n",
       "    </tr>\n",
       "  </tbody>\n",
       "</table>\n",
       "</div>"
      ],
      "text/plain": [
       "                              Frage  t-value z-value  Mittelungsdifferenz  \\\n",
       "0  Herzkreislaufstillstand erkennen     1.99     N/A                -0.70   \n",
       "1         AED erkennen u. verwenden     1.99     N/A                -0.39   \n",
       "2               Notfallsituation #1     1.99     N/A                 0.13   \n",
       "3      Notfallsituation #1, mit AED     1.99     N/A                -0.10   \n",
       "4               Notfallsituation #2     1.99     N/A                -0.05   \n",
       "5               Notfallsituation #3     1.99     N/A                -0.30   \n",
       "\n",
       "  Konfidenzintervall Signifikanter Unterschied  \n",
       "0       [0.49, 0.91]                        ja  \n",
       "1       [0.06, 0.71]                        ja  \n",
       "2       [-0.4, 0.14]                      nein  \n",
       "3      [-0.09, 0.29]                      nein  \n",
       "4      [-0.15, 0.24]                      nein  \n",
       "5      [-0.03, 0.62]                      nein  "
      ]
     },
     "execution_count": 10,
     "metadata": {},
     "output_type": "execute_result"
    }
   ],
   "source": [
    "df"
   ]
  },
  {
   "cell_type": "code",
   "execution_count": null,
   "id": "5cc68d76",
   "metadata": {},
   "outputs": [],
   "source": []
  },
  {
   "cell_type": "code",
   "execution_count": null,
   "id": "97fdfcc8",
   "metadata": {},
   "outputs": [],
   "source": []
  },
  {
   "cell_type": "code",
   "execution_count": null,
   "id": "d78ee3fb",
   "metadata": {},
   "outputs": [],
   "source": []
  }
 ],
 "metadata": {
  "kernelspec": {
   "display_name": "Python 3 (ipykernel)",
   "language": "python",
   "name": "python3"
  },
  "language_info": {
   "codemirror_mode": {
    "name": "ipython",
    "version": 3
   },
   "file_extension": ".py",
   "mimetype": "text/x-python",
   "name": "python",
   "nbconvert_exporter": "python",
   "pygments_lexer": "ipython3",
   "version": "3.9.13"
  }
 },
 "nbformat": 4,
 "nbformat_minor": 5
}
